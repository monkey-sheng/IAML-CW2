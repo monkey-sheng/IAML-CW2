{
 "cells": [
  {
   "cell_type": "code",
   "execution_count": 10,
   "source": [
    "#--- Code for loading modules and the data set and pre-processing --->\r\n",
    "# NB: You can edit the following and add code (e.g. code for loading sklearn) if necessary.\r\n",
    "\r\n",
    "import numpy as np\r\n",
    "import scipy\r\n",
    "import matplotlib.pyplot as plt\r\n",
    "import seaborn as sns\r\n",
    "from iaml_cw2_helpers import *\r\n",
    "# from iaml212cw2_my_helpers import *\r\n",
    "from os import getcwd\r\n",
    "print(getcwd())\r\n",
    "#<----\r\n"
   ],
   "outputs": [
    {
     "output_type": "stream",
     "name": "stdout",
     "text": [
      "c:\\Users\\Jason Hu\\Desktop\\IAML-CW2\\templates\n"
     ]
    }
   ],
   "metadata": {}
  },
  {
   "cell_type": "code",
   "execution_count": 12,
   "source": [
    "# Q1.1\r\n",
    "X, Y = load_Q1_dataset(\"../data/dataset_q1.csv\")\r\n",
    "# these are np arrays\r\n",
    "print('X: ', X. shape, 'Y: ', Y. shape)\r\n",
    "Xtrn = X[100:, :]\r\n",
    "Ytrn = Y[100:]  # training data set\r\n",
    "Xtst = X[0:100, :]\r\n",
    "Ytst = Y[0:100]  # test data set\r\n"
   ],
   "outputs": [
    {
     "output_type": "stream",
     "name": "stdout",
     "text": [
      "X:  (800, 9) Y:  (800,)\n"
     ]
    }
   ],
   "metadata": {}
  },
  {
   "cell_type": "code",
   "execution_count": 13,
   "source": [
    "Xtrn.describe()\r\n"
   ],
   "outputs": [
    {
     "output_type": "error",
     "ename": "AttributeError",
     "evalue": "'numpy.ndarray' object has no attribute 'describe'",
     "traceback": [
      "\u001b[1;31m---------------------------------------------------------------------------\u001b[0m",
      "\u001b[1;31mAttributeError\u001b[0m                            Traceback (most recent call last)",
      "\u001b[1;32mC:\\Users\\JASONH~1\\AppData\\Local\\Temp/ipykernel_1492/1372519455.py\u001b[0m in \u001b[0;36m<module>\u001b[1;34m\u001b[0m\n\u001b[1;32m----> 1\u001b[1;33m \u001b[0mXtrn\u001b[0m\u001b[1;33m.\u001b[0m\u001b[0mdescribe\u001b[0m\u001b[1;33m(\u001b[0m\u001b[1;33m)\u001b[0m\u001b[1;33m\u001b[0m\u001b[1;33m\u001b[0m\u001b[0m\n\u001b[0m",
      "\u001b[1;31mAttributeError\u001b[0m: 'numpy.ndarray' object has no attribute 'describe'"
     ]
    }
   ],
   "metadata": {}
  }
 ],
 "metadata": {
  "orig_nbformat": 4,
  "language_info": {
   "name": "python",
   "version": "3.7.9",
   "mimetype": "text/x-python",
   "codemirror_mode": {
    "name": "ipython",
    "version": 3
   },
   "pygments_lexer": "ipython3",
   "nbconvert_exporter": "python",
   "file_extension": ".py"
  },
  "kernelspec": {
   "name": "python3",
   "display_name": "Python 3.7.9 64-bit"
  },
  "interpreter": {
   "hash": "4d60189d14b91ed81471b71944fe98d15686dfee8d2c83ed8786d725f53c1e64"
  }
 },
 "nbformat": 4,
 "nbformat_minor": 2
}